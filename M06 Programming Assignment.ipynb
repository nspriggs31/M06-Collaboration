{
 "cells": [
  {
   "cell_type": "markdown",
   "id": "03d10449",
   "metadata": {},
   "source": [
    "13.1"
   ]
  },
  {
   "cell_type": "code",
   "execution_count": 18,
   "id": "27003014",
   "metadata": {},
   "outputs": [],
   "source": [
    "from datetime import date\n",
    "today=date.today()\n",
    "with open('today.txt', 'w') as file:\n",
    "    file.write(str(today))"
   ]
  },
  {
   "cell_type": "markdown",
   "id": "96059358",
   "metadata": {},
   "source": [
    "13.2"
   ]
  },
  {
   "cell_type": "code",
   "execution_count": 19,
   "id": "54ce0699",
   "metadata": {},
   "outputs": [],
   "source": [
    "with open('today.txt', 'r') as file:\n",
    "    today_string=file.read()"
   ]
  },
  {
   "cell_type": "markdown",
   "id": "4ac52b4e",
   "metadata": {},
   "source": [
    "13.3"
   ]
  },
  {
   "cell_type": "code",
   "execution_count": 20,
   "id": "9c7da5a8",
   "metadata": {},
   "outputs": [],
   "source": [
    "parsed_date=datetime.strptime(today_string, '%Y-%m-%d')"
   ]
  },
  {
   "cell_type": "markdown",
   "id": "0cc7f299",
   "metadata": {},
   "source": [
    "15.1"
   ]
  },
  {
   "cell_type": "code",
   "execution_count": 34,
   "id": "4f90ef30",
   "metadata": {},
   "outputs": [
    {
     "name": "stdout",
     "output_type": "stream",
     "text": [
      "The time is  01:07:42\n",
      "The time is  01:07:42\n",
      "The time is  01:07:43\n"
     ]
    }
   ],
   "source": [
    "import random\n",
    "import threading\n",
    "import time\n",
    "from datetime import datetime\n",
    "\n",
    "def print_time():\n",
    "    wait_time=random.random()\n",
    "    time.sleep(wait_time)\n",
    "    \n",
    "    current_time=datetime.now().strftime(\"%H:%M:%S\")\n",
    "    print(\"The time is \", current_time)\n",
    "    \n",
    "if __name__ == \"__main__\":\n",
    "    threads=[]\n",
    "    for _ in range(3):\n",
    "        t=threading.Thread(target=print_time)\n",
    "        threads.append(t)\n",
    "        t.start()\n",
    "    \n",
    "    for t in threads:\n",
    "        t.join()"
   ]
  },
  {
   "cell_type": "code",
   "execution_count": null,
   "id": "63f7513e",
   "metadata": {},
   "outputs": [],
   "source": []
  }
 ],
 "metadata": {
  "kernelspec": {
   "display_name": "Python 3 (ipykernel)",
   "language": "python",
   "name": "python3"
  },
  "language_info": {
   "codemirror_mode": {
    "name": "ipython",
    "version": 3
   },
   "file_extension": ".py",
   "mimetype": "text/x-python",
   "name": "python",
   "nbconvert_exporter": "python",
   "pygments_lexer": "ipython3",
   "version": "3.11.7"
  }
 },
 "nbformat": 4,
 "nbformat_minor": 5
}
